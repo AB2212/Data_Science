{
 "cells": [
  {
   "cell_type": "code",
   "execution_count": 1,
   "metadata": {
    "collapsed": false,
    "deletable": true,
    "editable": true
   },
   "outputs": [
    {
     "name": "stdout",
     "output_type": "stream",
     "text": [
      "*** Introductory Examples for the NLTK Book ***\n",
      "Loading text1, ..., text9 and sent1, ..., sent9\n",
      "Type the name of the text or sentence to view it.\n",
      "Type: 'texts()' or 'sents()' to list the materials.\n",
      "text1: Moby Dick by Herman Melville 1851\n",
      "text2: Sense and Sensibility by Jane Austen 1811\n",
      "text3: The Book of Genesis\n",
      "text4: Inaugural Address Corpus\n",
      "text5: Chat Corpus\n",
      "text6: Monty Python and the Holy Grail\n",
      "text7: Wall Street Journal\n",
      "text8: Personals Corpus\n",
      "text9: The Man Who Was Thursday by G . K . Chesterton 1908\n"
     ]
    }
   ],
   "source": [
    "import pandas as pd\n",
    "import numpy as np\n",
    "import matplotlib.pyplot as plt\n",
    "import nltk\n",
    "from nltk.corpus import stopwords\n",
    "from nltk.stem import SnowballStemmer, PorterStemmer\n",
    "from nltk.tokenize import word_tokenize,sent_tokenize,PunktSentenceTokenizer\n",
    "from nltk.book import FreqDist\n",
    "import string\n",
    "from wordcloud import WordCloud,STOPWORDS\n",
    "stemmer=SnowballStemmer(\"english\")\n",
    "stop_words=set(stopwords.words(\"english\"))\n",
    "from twython import Twython\n",
    "import re\n",
    "from nltk.sentiment.vader import SentimentIntensityAnalyzer\n",
    "%matplotlib notebook"
   ]
  },
  {
   "cell_type": "code",
   "execution_count": 2,
   "metadata": {
    "collapsed": true,
    "deletable": true,
    "editable": true
   },
   "outputs": [],
   "source": [
    "TWITTER_APP_KEY = ''\n",
    "TWITTER_APP_KEY_SECRET = '' \n",
    "TWITTER_ACCESS_TOKEN = ''\n",
    "TWITTER_ACCESS_TOKEN_SECRET = ''"
   ]
  },
  {
   "cell_type": "code",
   "execution_count": 3,
   "metadata": {
    "collapsed": true,
    "deletable": true,
    "editable": true
   },
   "outputs": [],
   "source": [
    "def draw_word(word):\n",
    "    translater=str.maketrans(\"\",\"\",string.punctuation)\n",
    "    word=word.translate(translater)\n",
    "    wordcloud = WordCloud(stopwords=STOPWORDS,background_color='black', width=2400,height=2000).generate(word)\n",
    "    plt.imshow(wordcloud)"
   ]
  },
  {
   "cell_type": "code",
   "execution_count": 4,
   "metadata": {
    "collapsed": false,
    "deletable": true,
    "editable": true
   },
   "outputs": [],
   "source": [
    "def preprocessing_word(word,stem=False):\n",
    "    \n",
    "    translater=str.maketrans(\"\",\"\",string.punctuation)\n",
    "    word=word.translate(translater)    \n",
    "    word_tokenized=word_tokenize(word)\n",
    "    stopwords_removed=[i for i in word_tokenized if i not in stop_words]\n",
    "    if stem==True:\n",
    "        ps=PorterStemmer()\n",
    "        stemmed_words=[ps.stem(w) for w in stopwords_removed]\n",
    "        return \" \".join(stemmed_words)\n",
    "    else:\n",
    "        return \" \".join(stopwords_removed)"
   ]
  },
  {
   "cell_type": "code",
   "execution_count": 11,
   "metadata": {
    "collapsed": false,
    "deletable": true,
    "editable": true
   },
   "outputs": [],
   "source": [
    "def search_tweet(tweet):\n",
    "    twitter = Twython(app_key=TWITTER_APP_KEY, \n",
    "                app_secret=TWITTER_APP_KEY_SECRET, \n",
    "                oauth_token=TWITTER_ACCESS_TOKEN, \n",
    "                oauth_token_secret=TWITTER_ACCESS_TOKEN_SECRET)\n",
    "    query='#'+str(tweet)\n",
    "    search = twitter.search(q=query, lang=\"en\",result_type='recent',count=100)\n",
    "\n",
    "    tweets = search['statuses']\n",
    "    \n",
    "    tweet_df=pd.DataFrame(columns=[\"Tweets\"])\n",
    "   \n",
    "    max_queries=99\n",
    "    query_count=0\n",
    "    while 'next_results' in search['search_metadata'].keys() and query_count < max_queries:\n",
    "        next_max_id=int(search['search_metadata']['next_results'].split('=')[1].split('&')[0])\n",
    "        search=twitter.search(q=query,count=100,result_type='recent',max_id=next_max_id)\n",
    "        tweets+=search['statuses']\n",
    "        query_count+=1\n",
    "    for tweet_ in tweets:\n",
    "        tweet_df=tweet_df.append({\"Tweets\":tweet_['text']},ignore_index=True)\n",
    "    return tweet_df\n",
    "        "
   ]
  },
  {
   "cell_type": "code",
   "execution_count": 6,
   "metadata": {
    "collapsed": true,
    "deletable": true,
    "editable": true
   },
   "outputs": [],
   "source": [
    "def make_tweet_string(tweet_df):\n",
    "    tweet_string=\"\"\n",
    "    for i in range(len(tweet_df)):\n",
    "        tweet=' '.join(re.sub(\"(@[A-Za-z0-9]+)|([^0-9A-Za-z \\t])|(\\w+:\\/\\/\\S+)\", \" \", tweet_df.iloc[i][\"Tweets\"]).split())\n",
    "        tweet_string+=tweet\n",
    "    return tweet_string"
   ]
  },
  {
   "cell_type": "code",
   "execution_count": 7,
   "metadata": {
    "collapsed": false,
    "deletable": true,
    "editable": true
   },
   "outputs": [],
   "source": [
    "def tweet_words_sorted(tweet_df):\n",
    "    tweet_string=make_tweet_string(tweet_df)\n",
    "    tweet_string=preprocessing_word(tweet_string)\n",
    "    tweet_nltk=nltk.Text(nltk.word_tokenize(tweet_string))\n",
    "    freq=FreqDist(tweet_nltk)\n",
    "    tweet_words_sorted_dict=sorted(freq.items(),key=lambda x: x[1],reverse=True)\n",
    "    tweet_words_sorted_list=[i[0] for i in tweet_words_sorted_dict]\n",
    "    return tweet_words_sorted_list\n"
   ]
  },
  {
   "cell_type": "code",
   "execution_count": 8,
   "metadata": {
    "collapsed": true,
    "deletable": true,
    "editable": true
   },
   "outputs": [],
   "source": [
    "def create_list_sentiment(tweet_words_sorted_list): \n",
    "    sia=SentimentIntensityAnalyzer()\n",
    "    Positive_words=[]\n",
    "    Negative_words=[]\n",
    "    Neutral_words=[]\n",
    "    for word in tweet_words_sorted_list:\n",
    "        sia_dict=(sia.polarity_scores(word))\n",
    "        if sia_dict['pos']==1:\n",
    "            Positive_words.append(word)\n",
    "        elif sia_dict['neg']==1:\n",
    "            Negative_words.append(word)\n",
    "        else:\n",
    "            Neutral_words.append(word)\n",
    "    return Positive_words,Negative_words,Neutral_words\n"
   ]
  },
  {
   "cell_type": "code",
   "execution_count": 9,
   "metadata": {
    "collapsed": false,
    "deletable": true,
    "editable": true
   },
   "outputs": [],
   "source": [
    "def tweet_sentiment(tweet):\n",
    "    tweet_df=search_tweet(tweet)\n",
    "    draw_word(\" \".join(tweet_words_sorted(tweet_df)))\n",
    "    plt.axis(\"off\")\n",
    "    plt.savefig(tweet+\"_tweets.jpg\")\n",
    "    plt.close()\n",
    "\n",
    "    Pos,Neg,Neu=create_list_sentiment(tweet_words_sorted(tweet_df))\n",
    "    draw_word(\" \".join(Pos))\n",
    "    plt.axis(\"off\")\n",
    "    plt.savefig(tweet+\"_positive_tweets.jpg\")\n",
    "    plt.close()\n",
    "\n",
    "    draw_word(\" \".join(Neg))\n",
    "    plt.axis(\"off\")\n",
    "    plt.savefig(tweet+\"_negative_tweets.jpg\")\n",
    "    plt.close()\n",
    "\n"
   ]
  }
 ],
 "metadata": {
  "kernelspec": {
   "display_name": "Python 3",
   "language": "python",
   "name": "python3"
  },
  "language_info": {
   "codemirror_mode": {
    "name": "ipython",
    "version": 3
   },
   "file_extension": ".py",
   "mimetype": "text/x-python",
   "name": "python",
   "nbconvert_exporter": "python",
   "pygments_lexer": "ipython3",
   "version": "3.4.2"
  }
 },
 "nbformat": 4,
 "nbformat_minor": 2
}
